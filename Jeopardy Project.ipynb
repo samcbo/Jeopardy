{
 "cells": [
  {
   "cell_type": "code",
   "execution_count": 2,
   "id": "cf085810",
   "metadata": {},
   "outputs": [],
   "source": [
    "import pandas as pd\n",
    "pd.set_option('display.max_colwidth', None)"
   ]
  },
  {
   "cell_type": "markdown",
   "id": "44b5c5ce",
   "metadata": {},
   "source": [
    "#### Make dataframe"
   ]
  },
  {
   "cell_type": "code",
   "execution_count": 3,
   "id": "9fdd7cd2",
   "metadata": {},
   "outputs": [],
   "source": [
    "jeopardy = pd.read_csv('jeopardy.csv')"
   ]
  },
  {
   "cell_type": "markdown",
   "id": "e82b5eb7",
   "metadata": {},
   "source": [
    "#### Print specific column"
   ]
  },
  {
   "cell_type": "code",
   "execution_count": 4,
   "id": "bc708284",
   "metadata": {},
   "outputs": [
    {
     "name": "stdout",
     "output_type": "stream",
     "text": [
      "0         4680\n",
      "1         4680\n",
      "2         4680\n",
      "3         4680\n",
      "4         4680\n",
      "          ... \n",
      "216925    4999\n",
      "216926    4999\n",
      "216927    4999\n",
      "216928    4999\n",
      "216929    4999\n",
      "Name: Show Number, Length: 216930, dtype: int64\n"
     ]
    }
   ],
   "source": [
    "print(jeopardy['Show Number'])"
   ]
  },
  {
   "cell_type": "markdown",
   "id": "a48a1b27",
   "metadata": {},
   "source": [
    "#### Rename columns to remove blank spaces"
   ]
  },
  {
   "cell_type": "code",
   "execution_count": 5,
   "id": "67fb208b",
   "metadata": {},
   "outputs": [],
   "source": [
    "jeopardy.rename(columns={'Show Number': 'Show_number', ' Air Date': 'Air_date', ' Round': 'Round', ' Category': 'Category', ' Value': 'Value', ' Question': 'Question', ' Answer': 'Answer'}, inplace= True)"
   ]
  },
  {
   "cell_type": "code",
   "execution_count": 22,
   "id": "b321be40",
   "metadata": {},
   "outputs": [
    {
     "name": "stdout",
     "output_type": "stream",
     "text": [
      "   Show_number    Air_date      Round                         Category Value  \\\n",
      "0         4680  2004-12-31  Jeopardy!                          HISTORY  $200   \n",
      "1         4680  2004-12-31  Jeopardy!  ESPN's TOP 10 ALL-TIME ATHLETES  $200   \n",
      "2         4680  2004-12-31  Jeopardy!      EVERYBODY TALKS ABOUT IT...  $200   \n",
      "3         4680  2004-12-31  Jeopardy!                 THE COMPANY LINE  $200   \n",
      "4         4680  2004-12-31  Jeopardy!              EPITAPHS & TRIBUTES  $200   \n",
      "\n",
      "                                                                                                      Question  \\\n",
      "0             For the last 8 years of his life, Galileo was under house arrest for espousing this man's theory   \n",
      "1  No. 2: 1912 Olympian; football star at Carlisle Indian School; 6 MLB seasons with the Reds, Giants & Braves   \n",
      "2                     The city of Yuma in this state has a record average of 4,055 hours of sunshine each year   \n",
      "3                         In 1963, live on \"The Art Linkletter Show\", this company served its billionth burger   \n",
      "4     Signer of the Dec. of Indep., framer of the Constitution of Mass., second President of the United States   \n",
      "\n",
      "       Answer  Float_Values  \n",
      "0  Copernicus         200.0  \n",
      "1  Jim Thorpe         200.0  \n",
      "2     Arizona         200.0  \n",
      "3  McDonald's         200.0  \n",
      "4  John Adams         200.0  \n"
     ]
    }
   ],
   "source": [
    "print(jeopardy.head())"
   ]
  },
  {
   "cell_type": "code",
   "execution_count": 7,
   "id": "03b8d29b",
   "metadata": {},
   "outputs": [
    {
     "name": "stdout",
     "output_type": "stream",
     "text": [
      "Index(['Show_number', 'Air_date', 'Round', 'Category', 'Value', 'Question',\n",
      "       'Answer'],\n",
      "      dtype='object')\n"
     ]
    }
   ],
   "source": [
    "print(jeopardy.keys())"
   ]
  },
  {
   "cell_type": "markdown",
   "id": "b57802fe",
   "metadata": {},
   "source": [
    "#### Filter dataset by list of words"
   ]
  },
  {
   "cell_type": "code",
   "execution_count": 8,
   "id": "9b860085",
   "metadata": {},
   "outputs": [],
   "source": [
    "\n",
    "def filter_data(data, words):\n",
    "  # Lowercases all words in the list of words as well as the questions. Returns true is all of the words in the list appear in the question.\n",
    "  filter = lambda x: all(word.lower() in x.lower() for word in words)\n",
    "  # Applies the labmda function to the Question column and returns the rows where the function returned True\n",
    "  return data.loc[data[\"Question\"].apply(filter)]\n"
   ]
  },
  {
   "cell_type": "code",
   "execution_count": 9,
   "id": "0d50dd42",
   "metadata": {},
   "outputs": [
    {
     "name": "stdout",
     "output_type": "stream",
     "text": [
      "4953                    Both England's King George V & FDR put their stamp of approval on this \"King of Hobbies\"\n",
      "6337      In retaliation for Viking raids, this \"Unready\" king of England attacks Norse areas of the Isle of Man\n",
      "9191                    This king of England beat the odds to trounce the French in the 1415 Battle of Agincourt\n",
      "11710               This Scotsman, the first Stuart king of England, was called \"The Wisest Fool in Christendom\"\n",
      "13454                                       It's the number that followed the last king of England named William\n",
      "                                                           ...                                                  \n",
      "208295        In 1066 this great-great grandson of Rollo made what some call the last Viking invasion of England\n",
      "208742                      Dutch-born king who ruled England jointly with Mary II & is a tasty New Zealand fish\n",
      "213870                In 1781 William Herschel discovered Uranus & initially named it after this king of England\n",
      "216021          His nickname was \"Bertie\", but he used this name & number when he became king of England in 1901\n",
      "216789        This kingdom of England grew from 2 settlements, one founded around 495 by Cerdic & his son Cynric\n",
      "Name: Question, Length: 152, dtype: object\n"
     ]
    }
   ],
   "source": [
    "# Testing the filter function\n",
    "filtered = filter_data(jeopardy, [\"King\", \"England\"])\n",
    "print(filtered[\"Question\"])\n"
   ]
  },
  {
   "cell_type": "markdown",
   "id": "9dbe5006",
   "metadata": {},
   "source": [
    "#### Calculate mean of prize money for question"
   ]
  },
  {
   "cell_type": "code",
   "execution_count": 10,
   "id": "349a5107",
   "metadata": {},
   "outputs": [
    {
     "name": "stdout",
     "output_type": "stream",
     "text": [
      "200\n"
     ]
    }
   ],
   "source": [
    "print((jeopardy['Value'][0]).split('$')[-1])"
   ]
  },
  {
   "cell_type": "code",
   "execution_count": 11,
   "id": "3331b8b5",
   "metadata": {},
   "outputs": [],
   "source": [
    "jeopardy['Float_Values'] = jeopardy['Value'].apply(lambda x: float(x[1:] .replace(',','')) if x != 'None' else None)\n",
    "\n",
    "    \n"
   ]
  },
  {
   "cell_type": "code",
   "execution_count": 13,
   "id": "cb544915",
   "metadata": {},
   "outputs": [
    {
     "name": "stdout",
     "output_type": "stream",
     "text": [
      "752.6\n",
      "785.7\n"
     ]
    }
   ],
   "source": [
    "mean = jeopardy['Float_Values'].mean( skipna = True).round(2)\n",
    "\n",
    "print(mean)\n",
    "\n",
    "filtered_2 = filter_data(jeopardy, [\"King\"])\n",
    "\n",
    "mean_of_filtered_2 = filtered_2['Float_Values'].mean(skipna =True).round(1)\n",
    "\n",
    "print(mean_of_filtered_2)"
   ]
  },
  {
   "cell_type": "markdown",
   "id": "eafdcb8c",
   "metadata": {},
   "source": [
    "#### Count of unique answers"
   ]
  },
  {
   "cell_type": "code",
   "execution_count": 14,
   "id": "061d79ce",
   "metadata": {},
   "outputs": [],
   "source": [
    "def get_answer_counts(data):\n",
    "    return data[\"Answer\"].value_counts()"
   ]
  },
  {
   "cell_type": "code",
   "execution_count": 24,
   "id": "4371fa50",
   "metadata": {},
   "outputs": [
    {
     "name": "stdout",
     "output_type": "stream",
     "text": [
      "William the Conqueror       6\n",
      "Wessex                      3\n",
      "Richard the Lionhearted     3\n",
      "Henry VIII                  3\n",
      "George III                  3\n",
      "                           ..\n",
      "The Magna Carta             1\n",
      "King Hussein                1\n",
      "Charles                     1\n",
      "(Sir Edward) Elgar          1\n",
      "William of Orange roughy    1\n",
      "Name: Answer, Length: 114, dtype: int64\n"
     ]
    }
   ],
   "source": [
    "# Testing the answer count function\n",
    "print(get_answer_counts(filtered))"
   ]
  },
  {
   "cell_type": "markdown",
   "id": "a0620a12",
   "metadata": {},
   "source": [
    "#### Compare how many times a word is listed in a question across different decades"
   ]
  },
  {
   "cell_type": "code",
   "execution_count": 16,
   "id": "b22d59cc",
   "metadata": {},
   "outputs": [],
   "source": [
    "def compare_90s_00s(word):\n",
    "    the_90s = jeopardy[jeopardy['Air_date'].str.startswith('199') & jeopardy.Question.str.contains(word)]\n",
    "    the_00s = jeopardy[jeopardy['Air_date'].str.startswith('200') & jeopardy.Question.str.contains(word)]\n",
    "    \n",
    "    count_90s = the_90s.Question.count()\n",
    "    count_00s = the_00s.Question.count()\n",
    "    \n",
    "    return ('count_90s: ', count_90s, 'count_00s: ', count_00s)\n",
    "\n",
    "\n",
    "    \n",
    "    "
   ]
  },
  {
   "cell_type": "code",
   "execution_count": 17,
   "id": "8b21fd8d",
   "metadata": {},
   "outputs": [
    {
     "name": "stdout",
     "output_type": "stream",
     "text": [
      "('count_90s: ', 90, 'count_00s: ', 244)\n"
     ]
    }
   ],
   "source": [
    "print(compare_90s_00s('computer'))"
   ]
  },
  {
   "cell_type": "markdown",
   "id": "e3cef430",
   "metadata": {},
   "source": [
    "#### Compare categories in rounds"
   ]
  },
  {
   "cell_type": "code",
   "execution_count": 25,
   "id": "d33f9974",
   "metadata": {},
   "outputs": [
    {
     "name": "stdout",
     "output_type": "stream",
     "text": [
      "['Jeopardy!' 'Double Jeopardy!' 'Final Jeopardy!' 'Tiebreaker']\n"
     ]
    }
   ],
   "source": [
    "print(jeopardy['Round'].unique())"
   ]
  },
  {
   "cell_type": "code",
   "execution_count": 19,
   "id": "4571a6a5",
   "metadata": {},
   "outputs": [
    {
     "name": "stdout",
     "output_type": "stream",
     "text": [
      "espn's top 10 all-time athletes\n"
     ]
    }
   ],
   "source": [
    "print(jeopardy['Category'][1].lower())"
   ]
  },
  {
   "cell_type": "code",
   "execution_count": 20,
   "id": "ec8738c5",
   "metadata": {},
   "outputs": [],
   "source": [
    "def compare_cat(word):\n",
    "    jeopardy_count = 0\n",
    "    double_jeopardy_count = 0\n",
    "    final_jeopardy_count = 0\n",
    "    tiebreaker_count = 0\n",
    "    index = 0\n",
    "    for x in jeopardy['Round']:\n",
    "        if x == 'Jeopardy!':\n",
    "            if jeopardy['Category'][index].lower() == word.lower():\n",
    "                jeopardy_count += 1\n",
    "        elif x == 'Double Jeopardy!':\n",
    "            if jeopardy['Category'][index].lower() == word.lower():\n",
    "                double_jeopardy_count += 1\n",
    "        elif x == 'Final Jeopardy!':\n",
    "            if jeopardy['Category'][index].lower() == word.lower():\n",
    "                final_jeopardy_count += 1\n",
    "        elif x == 'Tiebreaker!':\n",
    "            if jeopardy['Category'][index].lower() == word.lower():\n",
    "                tiebreaker_count += 1    \n",
    "        index +=1\n",
    "    return ( jeopardy_count , double_jeopardy_count ,  final_jeopardy_count , tiebreaker_count)\n",
    "                \n",
    "        "
   ]
  },
  {
   "cell_type": "code",
   "execution_count": 21,
   "id": "d0558302",
   "metadata": {},
   "outputs": [
    {
     "name": "stdout",
     "output_type": "stream",
     "text": [
      "(105, 381, 10, 0)\n"
     ]
    }
   ],
   "source": [
    "print(compare_cat('LITERATURE'))"
   ]
  }
 ],
 "metadata": {
  "kernelspec": {
   "display_name": "Python 3 (ipykernel)",
   "language": "python",
   "name": "python3"
  },
  "language_info": {
   "codemirror_mode": {
    "name": "ipython",
    "version": 3
   },
   "file_extension": ".py",
   "mimetype": "text/x-python",
   "name": "python",
   "nbconvert_exporter": "python",
   "pygments_lexer": "ipython3",
   "version": "3.9.7"
  }
 },
 "nbformat": 4,
 "nbformat_minor": 5
}
